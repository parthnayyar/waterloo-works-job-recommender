{
 "cells": [
  {
   "cell_type": "code",
   "execution_count": 84,
   "metadata": {},
   "outputs": [],
   "source": [
    "from sentence_transformers import SentenceTransformer\n",
    "from bs4 import BeautifulSoup\n",
    "import pandas as pd\n",
    "import torch\n",
    "import json\n",
    "import re\n",
    "device = \"cuda\" if torch.cuda.is_available() else \"cpu\""
   ]
  },
  {
   "cell_type": "code",
   "execution_count": null,
   "metadata": {},
   "outputs": [],
   "source": [
    "def process_input_json(filepath: str, jobs: dict, divisions: dict):\n",
    "    with open(filepath) as f: data = json.load(f)\n",
    "    for key in data:\n",
    "        if key.startswith(\"coopJob_\") and data[key][\"jobId\"] not in jobs: jobs[data[key][\"jobId\"]] = data[key]\n",
    "        elif key.startswith(\"division_\"): divisions[int(key.split(\"_\")[1])] = data[key]\n",
    "\n",
    "def fix_job_json(job: dict) -> None:\n",
    "    if \"Compensation and Benefits Information\" in job[\"pageData\"][\"Job Posting Information\"]:\n",
    "        job[\"pageData\"][\"Job Posting Information\"][\"Compensation and Benefits\"] = job[\"pageData\"][\"Job Posting Information\"][\"Compensation and Benefits Information\"]\n",
    "        job[\"pageData\"][\"Job Posting Information\"].pop(\"Compensation and Benefits Information\")\n",
    "\n",
    "    if \"Job - Province/State\" in job[\"pageData\"][\"Job Posting Information\"]:\n",
    "        job[\"pageData\"][\"Job Posting Information\"][\"Job - Province / State\"] = job[\"pageData\"][\"Job Posting Information\"][\"Job - Province/State\"]\n",
    "        job[\"pageData\"][\"Job Posting Information\"].pop(\"Job - Province/State\")\n",
    "\n",
    "    if \"Job - Province / State\" not in job[\"pageData\"][\"Job Posting Information\"]:\n",
    "        job[\"pageData\"][\"Job Posting Information\"][\"Job - Province / State\"] = None\n",
    "\n",
    "    if \"Job - City\" not in job[\"pageData\"][\"Job Posting Information\"]:\n",
    "        job[\"pageData\"][\"Job Posting Information\"][\"Job - City\"] = None\n",
    "\n",
    "    if \"divisionId\" not in job:\n",
    "        job[\"divisionId\"] = None\n",
    "\n",
    "def fix_division_json(division: dict) -> None: ...\n",
    "\n",
    "def convert_graph_json_to_dict(json: list[dict]) -> dict[str, int]:\n",
    "    return {item[\"name\"]: item[\"y\"] for item in json}\n",
    "\n",
    "def convert_graph_json_to_dict2(json: dict) -> dict[str, int]:\n",
    "    return {category: datapoint for category, datapoint in zip(json[\"categories\"], json[\"series\"][0][\"data\"])}\n",
    "\n",
    "def get_min_salary(compensation_and_benefits: str) -> float: return 0\n",
    "def get_max_salary(compensation_and_benefits: str) -> float: return 0\n",
    "\n",
    "def get_job_description(job_id: int, jobs_df: pd.DataFrame) -> str:\n",
    "    job = jobs_df.at[job_id]\n",
    "    return re.sub(\n",
    "        r\"\\n\\n+\",\n",
    "        \"\\n\",\n",
    "        BeautifulSoup(\n",
    "            f\"\\\n",
    "Job Title: {job['job_title']}\\n\\\n",
    "Company: {job['company']} - {job['division']}\\n\\\n",
    "Job Summary: {job['job_summary']}\\n\\\n",
    "Job Responsibilities: {job['job_responsibilities']}\\n\\\n",
    "Required Skills: {job['required_skills']}\",\n",
    "            \"html.parser\"\n",
    "        ).get_text()\n",
    "    )"
   ]
  },
  {
   "cell_type": "code",
   "execution_count": 101,
   "metadata": {},
   "outputs": [],
   "source": [
    "filepaths = [\"ww_data_1.json\", \"ww_data_2.json\"]\n",
    "jobs = {}\n",
    "divisions = {}\n",
    "for filepath in filepaths: process_input_json(filepath, jobs, divisions)\n",
    "for _, job in jobs.items(): fix_job_json(job)"
   ]
  },
  {
   "cell_type": "code",
   "execution_count": 102,
   "metadata": {},
   "outputs": [],
   "source": [
    "with open(\"ww_data_2.json\") as f: data = json.load(f)"
   ]
  },
  {
   "cell_type": "code",
   "execution_count": 103,
   "metadata": {},
   "outputs": [],
   "source": [
    "job_columns = {\n",
    "    \"division_id\": pd.Series(dtype=\"int\"), # jobs[job_id][\"divisionId\"]\n",
    "    \"application_deadline\": pd.Series(dtype=\"datetime64[ns]\"), # jobs[job_id][\"postingListData\"][\"deadline\"]\n",
    "    \"application_documents_required\": pd.Series(dtype=\"object\"),  # jobs[job_id][\"pageData\"][\"Application Information\"][\"Application Documents Required\"] # list[str]\n",
    "    \"company\": pd.Series(dtype=\"str\"), # jobs[job_id][\"postingListData\"][\"company\"]\n",
    "    \"division\": pd.Series(dtype=\"str\"), # jobs[job_id][\"postingListData\"][\"division\"]\n",
    "    \"min_salary\": pd.Series(dtype=\"float\"), # jobs[job_id][\"pageData\"][\"Job Posting Information\"][\"Compensation and Benefits\"]\n",
    "    \"max_salary\": pd.Series(dtype=\"float\"), # jobs[job_id][\"pageData\"][\"Job Posting Information\"][\"Compensation and Benefits\"]\n",
    "    \"compensation_and_benefits\": pd.Series(dtype=\"str\"), # jobs[job_id][\"pageData\"][\"Job Posting Information\"][\"Compensation and Benefits\"]\n",
    "    \"work_arrangement\": pd.Series(dtype=\"str\"), # jobs[job_id][\"pageData\"][\"Job Posting Information\"][\"Employment Location Arrangement\"]\n",
    "    \"city\": pd.Series(dtype=\"str\"), # jobs[job_id][\"pageData\"][\"Job Posting Information\"][\"Job - City\"]\n",
    "    \"province\": pd.Series(dtype=\"str\"), # jobs[job_id][\"pageData\"][\"Job Posting Information\"][\"Job - Province/State\"]\n",
    "    \"country\": pd.Series(dtype=\"str\"), # jobs[job_id][\"pageData\"][\"Job Posting Information\"][\"Job - Country\"]\n",
    "    \"job_responsibilities\": pd.Series(dtype=\"str\"), # jobs[job_id][\"pageData\"][\"Job Posting Information\"][\"Job Responsibilities\"]\n",
    "    \"job_summary\": pd.Series(dtype=\"str\"), # jobs[job_id][\"pageData\"][\"Job Posting Information\"][\"Job Summary\"]\n",
    "    \"job_title\": pd.Series(dtype=\"str\"), # jobs[job_id][\"postingListData\"][\"jobTitle\"]\n",
    "    \"required_skills\": pd.Series(dtype=\"str\"), # jobs[job_id][\"pageData\"][\"Job Posting Information\"][\"Required Skills\"]\n",
    "    \"duration\": pd.Series(dtype=\"int\"), # jobs[job_id][\"pageData\"][\"Job Posting Information\"][\"Work Term Duration\"]\n",
    "    \"num_job_openings\": pd.Series(dtype=\"int\"), # jobs[job_id][\"postingListData\"][\"openings\"]\n",
    "    \"num_applications\": pd.Series(dtype=\"int\"), # jobs[job_id][\"postingListData\"][\"applications\"]\n",
    "}\n",
    "jobs_df = pd.DataFrame(data=[], columns=job_columns.keys())\n",
    "jobs_df.index.name = \"job_id\""
   ]
  },
  {
   "cell_type": "code",
   "execution_count": null,
   "metadata": {},
   "outputs": [],
   "source": [
    "division_columns = {\n",
    "    \"hiring_history\": pd.Series(dtype=\"object\"), # divisions[division_id][\"Hiring History\"] # list[int]\n",
    "    \"hires_by_faculty\": pd.Series(dtype=\"object\"), # divisions[division_id][\"graphs\"][title=\"Hires by Faculty\"] # dict[str, int]\n",
    "    \"hires_by_work_term_number\": pd.Series(dtype=\"object\"), # divisions[division_id][\"graphs\"][title=\"Hires by Student Work Term Number\"] # dict[str, int] \n",
    "    \"most_frequently_hired_programs\": pd.Series(dtype=\"object\"), # divisions[division_id][\"graphs\"][title=\"Most Frequently Hired Programs\"] # dict[str, int] \n",
    "    \"overall_work_term_satisfaction\": pd.Series(dtype=\"object\"), # divisions[division_id][\"graphs\"][title.startswith(\"Overall Work Term Satisfaction\")] # list[int]\n",
    "    \"availability_of_employer_support\": pd.Series(dtype=\"float\"), # divisions[division_id][\"graphs\"][title.startswith(\"Average Rating by Question\")][\"series\"][0][\"data\"][0]\n",
    "    \"opportunities_to_learn_or_develop_new_skills\": pd.Series(dtype=\"float\"), # divisions[division_id][\"graphs\"][title.startswith(\"Average Rating by Question\")][\"series\"][0][\"data\"][1]\n",
    "    \"opportunities_to_make_meaningful_contributions_at_work\": pd.Series(dtype=\"float\"), # divisions[division_id][\"graphs\"][title.startswith(\"Average Rating by Question\")][\"series\"][0][\"data\"][2]\n",
    "    \"opportunities_to_expand_your_professional_network\": pd.Series(dtype=\"float\"), # divisions[division_id][\"graphs\"][title.startswith(\"Average Rating by Question\")][\"series\"][0][\"data\"][3]\n",
    "    \"appropriate_compensation_and_or_benefits\": pd.Series(dtype=\"float\"), # divisions[division_id][\"graphs\"][title.startswith(\"Average Rating by Question\")][\"series\"][0][\"data\"][4]\n",
    "    \"how_closely_your_work_was_related_to_your_academic_program\": pd.Series(dtype=\"float\"), # divisions[division_id][\"graphs\"][title.startswith(\"Average Rating by Question\")][\"series\"][0][\"data\"][5]\n",
    "    \"how_closely_your_work_was_related_to_the_skills_you_are_developing_at_university\": pd.Series(dtype=\"float\") # divisions[key][\"graphs\"][title.startswith(\"Average Rating by Question\")][\"series\"][0][\"data\"][6]\n",
    "}\n",
    "divisions_df = pd.DataFrame(data=[], columns=division_columns.keys())\n",
    "divisions_df.index.name = \"division_id\""
   ]
  },
  {
   "cell_type": "code",
   "execution_count": 105,
   "metadata": {},
   "outputs": [],
   "source": [
    "for job_id, job in jobs.items():\n",
    "    try:\n",
    "        jobs_df.at[job_id, \"division_id\"] = job[\"divisionId\"]\n",
    "        jobs_df.at[job_id, \"application_deadline\"] = job[\"postingListData\"][\"deadline\"]\n",
    "        jobs_df.at[job_id, \"application_documents_required\"] = job[\"pageData\"][\"Application Information\"][\"Application Documents Required\"]\n",
    "        jobs_df.at[job_id, \"company\"] = job[\"postingListData\"][\"company\"]\n",
    "        jobs_df.at[job_id, \"division\"] = job[\"postingListData\"][\"division\"]\n",
    "        jobs_df.at[job_id, \"min_salary\"] = get_min_salary(job[\"pageData\"][\"Job Posting Information\"][\"Compensation and Benefits\"])\n",
    "        jobs_df.at[job_id, \"max_salary\"] = get_max_salary(job[\"pageData\"][\"Job Posting Information\"][\"Compensation and Benefits\"])\n",
    "        jobs_df.at[job_id, \"compensation_and_benefits\"] = job[\"pageData\"][\"Job Posting Information\"][\"Compensation and Benefits\"]\n",
    "        jobs_df.at[job_id, \"work_arrangement\"] = job[\"pageData\"][\"Job Posting Information\"][\"Employment Location Arrangement\"]\n",
    "        jobs_df.at[job_id, \"city\"] = job[\"pageData\"][\"Job Posting Information\"][\"Job - City\"]\n",
    "        jobs_df.at[job_id, \"province\"] = job[\"pageData\"][\"Job Posting Information\"][\"Job - Province / State\"]\n",
    "        jobs_df.at[job_id, \"country\"] = job[\"pageData\"][\"Job Posting Information\"][\"Job - Country\"]\n",
    "        jobs_df.at[job_id, \"job_responsibilities\"] = job[\"pageData\"][\"Job Posting Information\"][\"Job Responsibilities\"]\n",
    "        jobs_df.at[job_id, \"job_summary\"] = job[\"pageData\"][\"Job Posting Information\"][\"Job Summary\"]\n",
    "        jobs_df.at[job_id, \"job_title\"] = job[\"postingListData\"][\"jobTitle\"]\n",
    "        jobs_df.at[job_id, \"required_skills\"] = job[\"pageData\"][\"Job Posting Information\"][\"Required Skills\"]\n",
    "        jobs_df.at[job_id, \"duration\"] = job[\"pageData\"][\"Job Posting Information\"][\"Work Term Duration\"]\n",
    "        jobs_df.at[job_id, \"num_job_openings\"] = job[\"postingListData\"][\"openings\"]\n",
    "        jobs_df.at[job_id, \"num_applications\"] = job[\"postingListData\"][\"applications\"]\n",
    "    except Exception as e:\n",
    "        print(job_id)\n",
    "        print(e)\n",
    "        print()"
   ]
  },
  {
   "cell_type": "code",
   "execution_count": 108,
   "metadata": {},
   "outputs": [
    {
     "data": {
      "text/plain": [
       "[{'series': [{'colorByPoint': True,\n",
       "    'data': [{'name': 'Arts', 'y': 20},\n",
       "     {'name': 'Engineering', 'y': 67},\n",
       "     {'name': 'Environment', 'y': 1},\n",
       "     {'name': 'Mathematics', 'y': 9},\n",
       "     {'name': 'Science', 'y': 3}],\n",
       "    'name': 'Percentage'}],\n",
       "  'title': 'Hires by Faculty'},\n",
       " {'series': [{'colorByPoint': True,\n",
       "    'data': [{'name': 'First', 'y': 18},\n",
       "     {'name': 'Second', 'y': 14},\n",
       "     {'name': 'Third', 'y': 19},\n",
       "     {'name': 'Fourth', 'y': 21},\n",
       "     {'name': 'Fifth', 'y': 17},\n",
       "     {'name': 'Sixth +', 'y': 11}],\n",
       "    'name': 'Percentage'}],\n",
       "  'title': 'Hires by Student Work Term Number'},\n",
       " {'categories': ['Chemical Engineering',\n",
       "   'Mechanical Engineering',\n",
       "   'Mechatronics Engineering',\n",
       "   'Computer Engineering',\n",
       "   'Computer Science/BCS',\n",
       "   'Economics',\n",
       "   'Legal Studies',\n",
       "   'Liberal Studies',\n",
       "   'Sociology',\n",
       "   'English'],\n",
       "  'series': [{'data': [25, 19, 8, 5, 5, 3, 3, 3, 3, 2], 'name': 'Hires'}],\n",
       "  'title': 'Most Frequently Hired Programs'},\n",
       " {'categories': ['1', '2', '3', '4', '5', '6', '7', '8', '9', '10'],\n",
       "  'series': [{'data': [0, 0, 0, 0, 2, 2, 16, 25, 40, 16],\n",
       "    'name': 'HubHead Corp.'}],\n",
       "  'title': 'Overall Work Term Satisfaction - Distribution of Student Ratings (1-10 scale) Fall 2021 to Spring 2024'},\n",
       " {'categories': ['Q1. Availability of employer support (e.g. start of the term in the company, ongoing interactions with supervisors/others, general feedback, and end-of-term transition)',\n",
       "   'Q2. Opportunities to learn or develop new skills',\n",
       "   'Q3. Opportunities to make meaningful contributions at work',\n",
       "   'Q4. Opportunities to expand your professional network',\n",
       "   'Q5. Appropriate compensation and/or benefits',\n",
       "   'Q6. How closely your work was related to your academic program',\n",
       "   'Q7. How closely your work was related to the skills you are developing at university'],\n",
       "  'series': [{'data': [4.8, 3.9, 4.2, 3.8, 4.6, 3.4, 3.6],\n",
       "    'name': 'HubHead Corp.',\n",
       "    'type': 'column'},\n",
       "   {'data': [4.5, 4.3, 4.3, 4.1, 4.1, 4, 3.9],\n",
       "    'name': 'Average of All Co-op Students',\n",
       "    'type': 'spline'}],\n",
       "  'title': 'Average Rating by Question (1-5 scale) Fall 2021 to Spring 2024'}]"
      ]
     },
     "execution_count": 108,
     "metadata": {},
     "output_type": "execute_result"
    }
   ],
   "source": [
    "divisions[10000][\"graphs\"]"
   ]
  },
  {
   "cell_type": "code",
   "execution_count": null,
   "metadata": {},
   "outputs": [],
   "source": [
    "for division_id, division in divisions.items():\n",
    "    try:\n",
    "        divisions_df.at[division_id, \"hiring_history\"] = division[\"Hiring History\"]\n",
    "        for graph in division[\"graphs\"]:\n",
    "            if graph[\"title\"] == \"Hires by Faculty\":\n",
    "                divisions_df.at[division_id, \"hires_by_faculty\"] = convert_graph_json_to_dict(graph[\"series\"][0][\"data\"])\n",
    "            elif graph[\"title\"] == \"Hires by Student Work Term Number\":\n",
    "                divisions_df.at[division_id, \"hires_by_work_term_number\"] = convert_graph_json_to_dict(graph[\"series\"][0][\"data\"])\n",
    "            elif graph[\"title\"] == \"Most Frequently Hired Programs\":\n",
    "                divisions_df.at[division_id, \"most_frequently_hired_programs\"] = convert_graph_json_to_dict2(graph)\n",
    "            elif graph[\"title\"].startswith(\"Overall Work Term Satisfaction\"):\n",
    "                \n",
    "    \n",
    "\n",
    "    except Exception as e:\n",
    "        print(division_id)\n",
    "        print(e)\n",
    "        print()"
   ]
  },
  {
   "cell_type": "code",
   "execution_count": null,
   "metadata": {},
   "outputs": [
    {
     "name": "stderr",
     "output_type": "stream",
     "text": [
      "A new version of the following files was downloaded from https://huggingface.co/nomic-ai/nomic-bert-2048:\n",
      "- configuration_hf_nomic_bert.py\n",
      ". Make sure to double-check they do not contain any added malicious code. To avoid downloading new versions of the code file, you can pin a revision.\n",
      "A new version of the following files was downloaded from https://huggingface.co/nomic-ai/nomic-bert-2048:\n",
      "- modeling_hf_nomic_bert.py\n",
      ". Make sure to double-check they do not contain any added malicious code. To avoid downloading new versions of the code file, you can pin a revision.\n",
      "!!!!!!!!!!!!megablocks not available, using torch.matmul instead\n",
      "C:\\Users\\parth\\.cache\\huggingface\\modules\\transformers_modules\\nomic-ai\\nomic-bert-2048\\359596ab182dcf943b7ca9e3f8809b6c2eaf652f\\modeling_hf_nomic_bert.py:116: FutureWarning: You are using `torch.load` with `weights_only=False` (the current default value), which uses the default pickle module implicitly. It is possible to construct malicious pickle data which will execute arbitrary code during unpickling (See https://github.com/pytorch/pytorch/blob/main/SECURITY.md#untrusted-models for more details). In a future release, the default value for `weights_only` will be flipped to `True`. This limits the functions that could be executed during unpickling. Arbitrary objects will no longer be allowed to be loaded via this mode unless they are explicitly allowlisted by the user via `torch.serialization.add_safe_globals`. We recommend you start setting `weights_only=True` for any use case where you don't have full control of the loaded file. Please open an issue on GitHub for any issues related to this experimental feature.\n",
      "  state_dict = loader(resolved_archive_file)\n",
      "<All keys matched successfully>\n"
     ]
    }
   ],
   "source": [
    "model = SentenceTransformer('nomic-ai/nomic-embed-text-v1', trust_remote_code=True).to(device)"
   ]
  }
 ],
 "metadata": {
  "kernelspec": {
   "display_name": "wwrecommender",
   "language": "python",
   "name": "python3"
  },
  "language_info": {
   "codemirror_mode": {
    "name": "ipython",
    "version": 3
   },
   "file_extension": ".py",
   "mimetype": "text/x-python",
   "name": "python",
   "nbconvert_exporter": "python",
   "pygments_lexer": "ipython3",
   "version": "3.10.14"
  }
 },
 "nbformat": 4,
 "nbformat_minor": 2
}
