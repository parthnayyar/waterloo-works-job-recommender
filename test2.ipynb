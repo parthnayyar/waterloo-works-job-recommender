{
 "cells": [
  {
   "cell_type": "code",
   "execution_count": 50,
   "metadata": {},
   "outputs": [],
   "source": [
    "# from sentence_transformers import SentenceTransformer\n",
    "from bs4 import BeautifulSoup\n",
    "import pandas as pd\n",
    "import torch\n",
    "import json\n",
    "import re\n",
    "device = \"cuda\" if torch.cuda.is_available() else \"cpu\""
   ]
  },
  {
   "cell_type": "code",
   "execution_count": 54,
   "metadata": {},
   "outputs": [],
   "source": [
    "def process_input_json(filepath: str, jobs: dict, divisions: dict):\n",
    "    with open(filepath) as f: data = json.load(f)\n",
    "    for key in data:\n",
    "        if key.startswith(\"coopJob_\") and data[key][\"jobId\"] not in jobs: jobs[data[key][\"jobId\"]] = data[key]\n",
    "        elif key.startswith(\"division_\"): divisions[int(key.split(\"_\")[1])] = data[key]\n",
    "\n",
    "def fix_job_json(job: dict) -> None:\n",
    "    if \"Compensation and Benefits Information\" in job[\"pageData\"][\"Job Posting Information\"]:\n",
    "        job[\"pageData\"][\"Job Posting Information\"][\"Compensation and Benefits\"] = job[\"pageData\"][\"Job Posting Information\"][\"Compensation and Benefits Information\"]\n",
    "        job[\"pageData\"][\"Job Posting Information\"].pop(\"Compensation and Benefits Information\")\n",
    "\n",
    "    if \"Job - Province/State\" in job[\"pageData\"][\"Job Posting Information\"]:\n",
    "        job[\"pageData\"][\"Job Posting Information\"][\"Job - Province / State\"] = job[\"pageData\"][\"Job Posting Information\"][\"Job - Province/State\"]\n",
    "        job[\"pageData\"][\"Job Posting Information\"].pop(\"Job - Province/State\")\n",
    "\n",
    "    if \"Job - Province / State\" not in job[\"pageData\"][\"Job Posting Information\"]:\n",
    "        job[\"pageData\"][\"Job Posting Information\"][\"Job - Province / State\"] = None\n",
    "\n",
    "    if \"Job - City\" not in job[\"pageData\"][\"Job Posting Information\"]:\n",
    "        job[\"pageData\"][\"Job Posting Information\"][\"Job - City\"] = None\n",
    "\n",
    "    if \"divisionId\" not in job:\n",
    "        job[\"divisionId\"] = None\n",
    "\n",
    "def fix_division_json(division: dict) -> None:\n",
    "    if \"hireHistory\" in division:\n",
    "        division[\"Hiring History\"] = division[\"hireHistory\"]\n",
    "        division.pop(\"hireHistory\")\n",
    "\n",
    "def convert_graph_json_to_dict(json: list[dict]) -> dict[str, int]:\n",
    "    return {item[\"name\"]: item[\"y\"] for item in json}\n",
    "\n",
    "def convert_graph_json_to_dict2(json: dict) -> dict[str, int]:\n",
    "    return {category: datapoint for category, datapoint in zip(json[\"categories\"], json[\"series\"][0][\"data\"])}\n",
    "\n",
    "def get_min_salary(compensation_and_benefits: str) -> float: return 0\n",
    "def get_max_salary(compensation_and_benefits: str) -> float: return 0\n",
    "\n",
    "def get_job_description(job_id: int, jobs_df: pd.DataFrame) -> str:\n",
    "    return re.sub(\n",
    "        r\"\\n\\n+\",\n",
    "        \"\\n\",\n",
    "        BeautifulSoup(\n",
    "            f\"\\\n",
    "Job Title: {jobs_df.at[job_id, 'job_title']}\\n\\\n",
    "Company: {jobs_df.at[job_id, 'company']} - {jobs_df.at[job_id, 'division']}\\n\\\n",
    "Job Summary: {jobs_df.at[job_id, 'job_summary']}\\n\\\n",
    "Job Responsibilities: {jobs_df.at[job_id, 'job_responsibilities']}\\n\\\n",
    "Required Skills: {jobs_df.at[job_id, 'required_skills']}\",\n",
    "            \"html.parser\"\n",
    "        ).get_text()\n",
    "    )"
   ]
  },
  {
   "cell_type": "code",
   "execution_count": 58,
   "metadata": {},
   "outputs": [
    {
     "data": {
      "text/plain": [
       "dict_keys([338608, 339400, 340068, 341577, 341940, 342007, 342018, 342072, 342092, 342093, 342094, 342115, 342116, 342121, 342125, 342127, 342135, 342140, 342145, 342196, 342201, 342212, 342215, 342225, 342237, 342244, 342253, 342257, 342261, 342269, 342291, 342292, 342295, 342304, 342307, 342308, 342314, 342317, 342328, 342342, 342343, 342349, 342354, 342359, 342366, 342369, 342376, 342380, 342381, 342382, 342389, 342390, 342395, 342412, 342430, 342447, 342477, 342487, 342490, 342491, 342496, 342523, 342526, 342543, 342560, 342571, 342579, 342584, 342588, 342600, 342601, 342603, 342609, 342643, 342645, 342650, 342661, 342667, 342682, 342686, 342692, 342697, 342703, 342707, 342709, 342737, 342750, 342757, 342763, 342766, 342775, 342777, 342778, 342779, 342785, 342787, 342792, 342796, 342808, 342809, 342811, 342813, 342814, 342816, 342817, 342818, 342821, 342823, 342829, 342837, 342838, 342863, 342908, 342911, 342912, 342936, 342941, 342948, 342953, 342965, 342968, 342972, 343003, 343008, 343014, 343015, 343016, 343031, 343048, 343053, 343060, 343076, 343079, 343086, 343108, 343109, 343110, 343119, 343122, 343146, 343156, 343193, 343195, 343198, 343199, 343203, 343207, 343219, 343223, 343225, 343226, 343237, 343242, 343243, 343288, 343293, 343302, 343304, 343344, 343346, 343356, 343399, 343406, 343409, 343411, 343412, 343435, 343436, 343467, 343470, 343478, 343481, 343498, 343510, 343528, 343530, 343535, 343539, 343543, 343563, 343576, 343603, 343606, 343612, 343631, 343635, 343638, 343639, 343640, 343641, 343642, 343643, 343660, 343672, 343676, 343681, 343690, 343693, 343702, 343706, 343714, 343718, 343728, 343732, 343742, 343743, 343744, 343756, 343766, 343767, 343768, 343771, 343772, 343775, 343784, 343807, 343821, 343825, 343833, 343839, 343843, 343844, 343851, 343879, 343882, 343891, 343894, 343897, 343903, 343904, 343908, 343911, 343912, 343916, 343917, 343919, 343920, 343931, 343932, 343935, 343946, 343951, 343958, 343968, 343969, 343981, 343986, 343992, 343996, 343998, 344002, 344005, 344009, 344015, 344016, 344018, 344028, 344029, 344030, 344043, 344044, 344045, 344053, 344063, 344072, 344088, 344113, 344115, 344126, 344128, 344129, 344133, 344169, 344174, 344195, 344222, 344232, 344262, 344264, 344265, 344267, 344277, 344278, 344304, 344314, 344319, 344323, 344324, 344327, 344333, 344339, 344342, 344343, 344346, 344351, 344352, 344354, 344359, 344360, 344369, 344373, 344377, 344399, 344408, 344410, 344412, 344417, 344418, 344431, 344455, 344457, 379232, 379258, 379261, 379262, 379263, 379296, 379394, 379395, 379396, 379398, 379400, 379401, 379403, 379404, 379405, 379406, 379412, 379414, 379416, 379417, 379420, 379423, 379424, 379425, 379426, 379427, 379428, 379429, 379430, 379431, 379472, 379473, 379477, 379557, 379579, 379580, 379581, 379648, 379651, 379654, 379655, 379677, 379691, 379744, 379812, 379846, 379871, 379928, 379929, 379939, 379984, 380007, 380008, 380009, 380010, 380114, 380166, 380255, 380273, 380330, 380380, 380383, 380384, 380386, 380388, 380390, 380391, 380392, 380429, 380475, 380476, 380485, 380510, 380511, 380528, 380532, 380534, 380538, 380548, 380552, 380583, 380585, 380592, 380596, 380599, 380600, 380602, 380604, 380610, 380620, 380652, 380660, 380661, 380685, 380811, 380894, 380933, 380951, 380962, 380975, 380977, 380991, 381004, 381011, 381102, 381103, 381117, 381153, 381156, 381177, 381179, 381192, 381202, 381246, 381324, 381326, 381327, 381332, 381346, 381405, 381428, 381456, 381497, 381500, 381507, 381514, 381534, 381538, 381542, 381583, 381610, 381624, 381628, 381630, 381643, 381660, 381667, 381691, 381696, 381710, 381761, 381766, 381795, 381805, 381809, 381827, 381839, 381883, 381922, 381947, 382008, 382015, 382025, 382033, 382034, 382077, 382080, 382100, 382105, 382106, 382125, 382130, 382142, 382148, 382188, 382189, 382204, 382211, 382212, 382213, 382215, 382217, 382225, 382226, 382228, 382243, 382246, 382248, 382251, 382256, 382261, 382265, 382269, 382287, 382296, 382298, 382322, 382325, 382370, 382376, 382380, 382389, 382397, 382433, 382445, 382449, 382450, 382453, 382460, 382462, 382463, 382478, 382480, 382488, 382498, 382512, 382515, 382519, 382521, 382530, 382532, 382533, 382538, 382558, 382564, 382573, 382610, 382629, 382630, 382642, 382643, 382657, 382658, 382664, 382702, 382716, 382726, 382731, 382733, 382752, 382768, 382782, 382784, 382790, 382802, 382806, 382810, 382814, 382837, 382856, 382882, 382884, 382888, 382898, 382906, 382916, 382920, 382922, 382926, 382927, 382937, 382942, 382947, 382965, 383033, 383035, 383052, 383055, 383060, 383069, 383101, 383109, 383118, 383124, 383157, 383158, 383159, 383165, 383168, 383176, 383180, 383181, 383183, 383185, 383229, 383233, 383237, 383257, 383284, 383292, 383293, 383320, 383329, 383339, 383378, 383380, 383397, 383400, 383403, 383406, 383408, 383421, 383426, 383427, 383430, 383435, 383439, 383454, 383456, 383457, 383458, 383459, 383460, 383461, 383462, 383466, 383471, 383475, 383476, 383477, 383483, 383485, 383490, 383492, 383493, 383494, 383502, 383538, 383540, 383543, 383557, 383576, 383579, 383583, 383585, 383591, 383610, 383624, 383627, 383642, 383648, 383649, 383653, 383657, 383659, 383674, 383707, 383713, 383718, 383741, 383756, 383759, 383788, 383790, 383797, 383799, 383802, 383804, 383818, 383822, 383842, 383857, 383866, 383868, 383886, 383890, 383891, 383908, 383921, 383932, 383942, 383954, 383965, 383966, 383967, 383972, 383978, 383984, 383987, 383992, 384002, 384006, 384007, 384012, 384018, 384020, 384024, 384025, 384028, 384030, 384039, 384040, 384041, 384044, 384045, 384047, 384049, 384055, 384057, 384059, 384062, 384066, 384078, 384087, 384089, 384090, 384091, 384096, 384098, 384099, 384102, 384103, 384109, 384111, 384112, 384118, 384123, 384137, 384143, 384156, 384165, 384175, 384176, 384178, 384185, 384200, 384201, 384206, 384217, 384222, 384253, 384255, 384261, 384262, 384263, 384264, 384265, 384307, 384317, 384318, 384320, 384321, 384324, 384347, 384356, 384364, 384365, 384370, 384371, 384372, 384380, 384384, 384388, 384389, 384391, 384398, 384402, 384403, 384408, 384411, 384412, 384417, 384422, 384423, 384427, 384431, 384436, 384439, 384453, 384454, 384465, 384470, 384471, 384472, 384474, 384489, 384490, 384502, 384503, 384507, 384512, 384513, 384515, 384516, 384523, 384524, 384525, 384526, 384527, 384530, 384531, 384532, 384534, 384536, 384543, 384549, 384550, 384551, 384552, 384553, 384555, 384556, 384557, 384558, 384559, 384563, 384566, 384570, 384572, 384573, 384574, 384575, 384580, 384598, 384601, 384603, 384605, 384611, 384612, 384613, 384614, 384623, 384627, 384640, 384649, 384667, 384669, 384671, 384674, 384682, 384687, 384692, 384696, 384701, 384703, 384706, 384712, 384714, 384721, 384728, 384731, 384732, 384736, 384740, 384744, 384745, 384749, 384750, 384751, 384752, 384755, 384756, 384757, 384760, 384766, 384768, 384773, 384779, 384785, 384795, 384798, 384803, 384804, 384805, 384811, 384821, 384826, 384838, 384846, 384850, 384855, 384865, 384871, 384880, 384883, 384886, 384893, 384896, 384898, 384899, 384900, 384903, 384905, 384914, 384919, 384921, 384929, 384931, 384938, 384945, 384954, 384957, 384959, 384960, 384976, 384977, 384982, 384998, 385000, 385007, 385018, 385019, 385026, 385034, 385037, 385040, 385043, 385048, 385050, 385052, 385057, 385059, 385060, 385065, 385068, 385072, 385075, 385082, 385085, 385087, 385089, 385090, 385093, 385098, 385105, 385111, 385112, 385119, 385121, 385124, 385127, 385130, 385131, 385132, 385134, 385139, 385141, 385142, 385144, 385148, 385149, 385151, 385155, 385162, 385165, 385167, 385171, 385174, 385175, 385180, 385185, 385186, 385189, 385194, 385195, 385196, 385197, 385200, 385201, 385203, 385206, 385207, 385210, 385214, 385217, 385221, 385225, 385227, 385228, 385231, 385232, 385234, 385239, 385251, 385254, 385255, 385260, 385262, 385264, 385271, 385273, 385275, 385278, 385282, 385300, 385309, 385311, 385320, 385328, 385362, 385366, 385376, 385377, 385380, 385383, 385385, 385392, 385396, 385400, 385403, 385408, 385412, 385415, 385419, 385423, 385431, 385433, 385436, 385441, 385451, 385453, 385454, 385455, 385458, 385461, 385463, 385467, 385473, 385477, 385480, 385492, 385498, 385505, 385506, 385516, 385517, 385518, 385519, 385521, 385526, 385544, 385547, 385548, 385551, 385560, 385573, 385578, 385581, 385585, 385586, 385596, 385599, 385611, 385623, 385654, 385668, 385669, 385670, 385673, 385675, 385676, 385680, 385682, 385695, 385699, 385709, 385713, 385714, 385724, 385725, 385726, 385727, 385728, 385731, 385732, 385733, 385734, 385735, 385736, 385747, 385757, 385758, 385763, 385766, 385771, 385775, 385778, 385779, 385791, 385792, 385796, 385801, 385802, 385804, 385805, 385807, 385810, 385815, 385823, 385828, 385830, 385831, 385832, 385833, 385835, 385836, 385837, 385840, 385841, 385842, 385843, 385844, 385845, 385846, 385847, 385848, 385849, 385850, 385851, 385852, 385854, 385857, 385858, 385859, 385864, 385874, 385880, 385886, 385887, 385890, 385903, 385923, 385961, 385964, 385967, 386001, 386039, 386136, 386137, 386261, 386264, 400949, 401629, 401686, 401790, 401829, 401952, 401953, 401955, 401979, 401981, 401984, 402052, 402106, 402185, 402199, 402300, 402318, 402323, 402328, 402345, 402346, 402351, 402363, 402388, 402389, 402391, 402436, 402447, 402539, 402540, 402572, 402611, 402628, 402665, 402725, 402727, 402768, 402774, 402826, 402848, 402896, 402901, 402935, 402942, 403048, 403117, 403125, 403126, 403151, 403187, 403191, 403252, 403259, 403309, 403426, 403438, 403456, 403476, 403485, 403498, 403520, 403612, 403614, 403620, 403622, 403778, 403779, 403781, 403784, 403798, 403807, 403811, 403820, 403822, 403824, 403825, 403826, 403830, 403832, 403850, 403859, 403861, 403890, 403922, 403925, 403927, 403932, 403992, 404065, 404067, 404117, 404126, 404201, 404222, 404243, 404260, 404286, 404321, 404331, 404359, 404372, 404398, 404408, 404452, 404494, 404515, 404520, 404524, 404540, 404541, 404605, 404618, 404621, 404623, 404626, 404651, 404679, 404693, 404716, 404721, 404764, 404792, 404830, 404831, 404839, 404859, 404860, 404863, 404897, 404912, 404923, 404991, 404998, 405041, 405047, 405053, 405100, 405108, 405154, 405187, 405192, 405233, 405384, 405389, 405431, 405508, 405565, 405590, 405603, 405609, 405649, 405656, 405664, 405679, 405680, 405681, 405767, 405780, 405830, 405831, 405832, 405847, 405854, 405888, 405901, 405915, 405929, 405936, 405945, 405946, 405954, 405959, 405965, 405970, 405975, 406030, 406031, 406041, 406044, 406047, 406123, 406160, 406162, 406175, 406211, 406226, 406229, 406258, 406276, 406282, 406294, 406296, 406302, 406321, 406322, 406325, 406330, 406331, 406336, 406338, 406339, 406340, 406345, 406360, 406380, 406403, 406419, 406460, 406470, 406472, 406476, 406477, 406503, 406523, 406544, 406553, 406555, 406559, 406565, 406568, 406594, 406600, 406602, 406603, 406605, 406608, 406610, 406617, 406619, 406623, 406625, 406627, 406628, 406631, 406633, 406635, 406636, 406637, 406639, 406641, 406644, 406646, 406648, 406650, 406655, 406659, 406664, 406667, 406669, 406670, 406671, 406672, 406685, 406688, 406690, 406695, 406705, 406726, 406739, 406741, 406743, 406760, 406765, 406767, 406773, 406776, 406779, 406780, 406781, 406789, 406791, 406806, 406807, 406816, 406817, 406818, 406819, 406824, 406850, 406866, 406868, 406872, 406876, 406908, 406912, 406915, 406922, 406923, 406928, 406931, 406938, 406945, 406950, 406954, 406959, 406969, 406970, 406976, 406977, 406979, 406981, 406983, 406984, 406990, 407007, 407034])"
      ]
     },
     "execution_count": 58,
     "metadata": {},
     "output_type": "execute_result"
    }
   ],
   "source": [
    "jobs.keys()"
   ]
  },
  {
   "cell_type": "code",
   "execution_count": 60,
   "metadata": {},
   "outputs": [
    {
     "name": "stdout",
     "output_type": "stream",
     "text": [
      "372.25\n"
     ]
    }
   ],
   "source": [
    "print(get_job_description(339400, jobs_df).__len__() / 4)"
   ]
  },
  {
   "cell_type": "code",
   "execution_count": 24,
   "metadata": {},
   "outputs": [],
   "source": [
    "filepaths = [\"ww_data_1.json\", \"ww_data_2.json\"]\n",
    "jobs = {}\n",
    "divisions = {}\n",
    "for filepath in filepaths: process_input_json(filepath, jobs, divisions)\n",
    "for _, job in jobs.items(): fix_job_json(job)\n",
    "for _, division in divisions.items(): fix_division_json(division)"
   ]
  },
  {
   "cell_type": "code",
   "execution_count": 25,
   "metadata": {},
   "outputs": [],
   "source": [
    "with open(\"ww_data_2.json\") as f: data = json.load(f)"
   ]
  },
  {
   "cell_type": "code",
   "execution_count": 26,
   "metadata": {},
   "outputs": [],
   "source": [
    "job_columns = {\n",
    "    \"division_id\": pd.Series(dtype=\"int\"), # jobs[job_id][\"divisionId\"]\n",
    "    \"application_deadline\": pd.Series(dtype=\"datetime64[ns]\"), # jobs[job_id][\"postingListData\"][\"deadline\"]\n",
    "    \"application_documents_required\": pd.Series(dtype=\"object\"),  # jobs[job_id][\"pageData\"][\"Application Information\"][\"Application Documents Required\"] # list[str]\n",
    "    \"company\": pd.Series(dtype=\"str\"), # jobs[job_id][\"postingListData\"][\"company\"]\n",
    "    \"division\": pd.Series(dtype=\"str\"), # jobs[job_id][\"postingListData\"][\"division\"]\n",
    "    \"min_salary\": pd.Series(dtype=\"float\"), # jobs[job_id][\"pageData\"][\"Job Posting Information\"][\"Compensation and Benefits\"]\n",
    "    \"max_salary\": pd.Series(dtype=\"float\"), # jobs[job_id][\"pageData\"][\"Job Posting Information\"][\"Compensation and Benefits\"]\n",
    "    \"compensation_and_benefits\": pd.Series(dtype=\"str\"), # jobs[job_id][\"pageData\"][\"Job Posting Information\"][\"Compensation and Benefits\"]\n",
    "    \"work_arrangement\": pd.Series(dtype=\"str\"), # jobs[job_id][\"pageData\"][\"Job Posting Information\"][\"Employment Location Arrangement\"]\n",
    "    \"city\": pd.Series(dtype=\"str\"), # jobs[job_id][\"pageData\"][\"Job Posting Information\"][\"Job - City\"]\n",
    "    \"province\": pd.Series(dtype=\"str\"), # jobs[job_id][\"pageData\"][\"Job Posting Information\"][\"Job - Province/State\"]\n",
    "    \"country\": pd.Series(dtype=\"str\"), # jobs[job_id][\"pageData\"][\"Job Posting Information\"][\"Job - Country\"]\n",
    "    \"job_responsibilities\": pd.Series(dtype=\"str\"), # jobs[job_id][\"pageData\"][\"Job Posting Information\"][\"Job Responsibilities\"]\n",
    "    \"job_summary\": pd.Series(dtype=\"str\"), # jobs[job_id][\"pageData\"][\"Job Posting Information\"][\"Job Summary\"]\n",
    "    \"job_title\": pd.Series(dtype=\"str\"), # jobs[job_id][\"postingListData\"][\"jobTitle\"]\n",
    "    \"required_skills\": pd.Series(dtype=\"str\"), # jobs[job_id][\"pageData\"][\"Job Posting Information\"][\"Required Skills\"]\n",
    "    \"duration\": pd.Series(dtype=\"int\"), # jobs[job_id][\"pageData\"][\"Job Posting Information\"][\"Work Term Duration\"]\n",
    "    \"num_job_openings\": pd.Series(dtype=\"int\"), # jobs[job_id][\"postingListData\"][\"openings\"]\n",
    "    \"num_applications\": pd.Series(dtype=\"int\"), # jobs[job_id][\"postingListData\"][\"applications\"]\n",
    "}\n",
    "jobs_df = pd.DataFrame(data=[], columns=job_columns.keys())\n",
    "jobs_df.index.name = \"job_id\""
   ]
  },
  {
   "cell_type": "code",
   "execution_count": 41,
   "metadata": {},
   "outputs": [],
   "source": [
    "division_columns = {\n",
    "    \"hiring_history\": pd.Series(dtype=\"object\"), # divisions[division_id][\"Hiring History\"] # list[int]\n",
    "    \"hires_by_faculty\": pd.Series(dtype=\"object\"), # divisions[division_id][\"graphs\"][title=\"Hires by Faculty\"] # dict[str, int]\n",
    "    \"hires_by_work_term_number\": pd.Series(dtype=\"object\"), # divisions[division_id][\"graphs\"][title=\"Hires by Student Work Term Number\"] # dict[str, int] \n",
    "    \"most_frequently_hired_programs\": pd.Series(dtype=\"object\"), # divisions[division_id][\"graphs\"][title=\"Most Frequently Hired Programs\"] # dict[str, int] \n",
    "    \"overall_work_term_satisfaction\": pd.Series(dtype=\"object\"), # divisions[division_id][\"graphs\"][title.startswith(\"Overall Work Term Satisfaction\")] # list[int]\n",
    "    \"availability_of_employer_support\": pd.Series(dtype=\"float\"), # divisions[division_id][\"graphs\"][title.startswith(\"Average Rating by Question\")][\"series\"][0][\"data\"][0]\n",
    "    \"opportunities_to_learn_or_develop_new_skills\": pd.Series(dtype=\"float\"), # divisions[division_id][\"graphs\"][title.startswith(\"Average Rating by Question\")][\"series\"][0][\"data\"][1]\n",
    "    \"opportunities_to_make_meaningful_contributions_at_work\": pd.Series(dtype=\"float\"), # divisions[division_id][\"graphs\"][title.startswith(\"Average Rating by Question\")][\"series\"][0][\"data\"][2]\n",
    "    \"opportunities_to_expand_your_professional_network\": pd.Series(dtype=\"float\"), # divisions[division_id][\"graphs\"][title.startswith(\"Average Rating by Question\")][\"series\"][0][\"data\"][3]\n",
    "    \"appropriate_compensation_and_or_benefits\": pd.Series(dtype=\"float\"), # divisions[division_id][\"graphs\"][title.startswith(\"Average Rating by Question\")][\"series\"][0][\"data\"][4]\n",
    "    \"how_closely_your_work_was_related_to_your_academic_program\": pd.Series(dtype=\"float\"), # divisions[division_id][\"graphs\"][title.startswith(\"Average Rating by Question\")][\"series\"][0][\"data\"][5]\n",
    "    \"how_closely_your_work_was_related_to_the_skills_you_are_developing_at_university\": pd.Series(dtype=\"float\") # divisions[key][\"graphs\"][title.startswith(\"Average Rating by Question\")][\"series\"][0][\"data\"][6]\n",
    "}\n",
    "divisions_df = pd.DataFrame(data=[], columns=division_columns.keys())\n",
    "divisions_df.index.name = \"division_id\""
   ]
  },
  {
   "cell_type": "code",
   "execution_count": 42,
   "metadata": {},
   "outputs": [],
   "source": [
    "for job_id, job in jobs.items():\n",
    "    try:\n",
    "        jobs_df.at[job_id, \"division_id\"] = job[\"divisionId\"]\n",
    "        jobs_df.at[job_id, \"application_deadline\"] = job[\"postingListData\"][\"deadline\"]\n",
    "        jobs_df.at[job_id, \"application_documents_required\"] = job[\"pageData\"][\"Application Information\"][\"Application Documents Required\"]\n",
    "        jobs_df.at[job_id, \"company\"] = job[\"postingListData\"][\"company\"]\n",
    "        jobs_df.at[job_id, \"division\"] = job[\"postingListData\"][\"division\"]\n",
    "        jobs_df.at[job_id, \"min_salary\"] = get_min_salary(job[\"pageData\"][\"Job Posting Information\"][\"Compensation and Benefits\"])\n",
    "        jobs_df.at[job_id, \"max_salary\"] = get_max_salary(job[\"pageData\"][\"Job Posting Information\"][\"Compensation and Benefits\"])\n",
    "        jobs_df.at[job_id, \"compensation_and_benefits\"] = job[\"pageData\"][\"Job Posting Information\"][\"Compensation and Benefits\"]\n",
    "        jobs_df.at[job_id, \"work_arrangement\"] = job[\"pageData\"][\"Job Posting Information\"][\"Employment Location Arrangement\"]\n",
    "        jobs_df.at[job_id, \"city\"] = job[\"pageData\"][\"Job Posting Information\"][\"Job - City\"]\n",
    "        jobs_df.at[job_id, \"province\"] = job[\"pageData\"][\"Job Posting Information\"][\"Job - Province / State\"]\n",
    "        jobs_df.at[job_id, \"country\"] = job[\"pageData\"][\"Job Posting Information\"][\"Job - Country\"]\n",
    "        jobs_df.at[job_id, \"job_responsibilities\"] = job[\"pageData\"][\"Job Posting Information\"][\"Job Responsibilities\"]\n",
    "        jobs_df.at[job_id, \"job_summary\"] = job[\"pageData\"][\"Job Posting Information\"][\"Job Summary\"]\n",
    "        jobs_df.at[job_id, \"job_title\"] = job[\"postingListData\"][\"jobTitle\"]\n",
    "        jobs_df.at[job_id, \"required_skills\"] = job[\"pageData\"][\"Job Posting Information\"][\"Required Skills\"]\n",
    "        jobs_df.at[job_id, \"duration\"] = job[\"pageData\"][\"Job Posting Information\"][\"Work Term Duration\"]\n",
    "        jobs_df.at[job_id, \"num_job_openings\"] = job[\"postingListData\"][\"openings\"]\n",
    "        jobs_df.at[job_id, \"num_applications\"] = job[\"postingListData\"][\"applications\"]\n",
    "    except Exception as e:\n",
    "        print(job_id)\n",
    "        print(e)\n",
    "        print()"
   ]
  },
  {
   "cell_type": "code",
   "execution_count": 43,
   "metadata": {},
   "outputs": [
    {
     "data": {
      "text/plain": [
       "[{'series': [{'colorByPoint': True,\n",
       "    'data': [{'name': 'Arts', 'y': 40},\n",
       "     {'name': 'Engineering', 'y': 10},\n",
       "     {'name': 'Environment', 'y': 1},\n",
       "     {'name': 'Mathematics', 'y': 42},\n",
       "     {'name': 'Science', 'y': 6}],\n",
       "    'name': 'Percentage'}],\n",
       "  'title': 'Hires by Faculty  - Capital Markets &amp; Wealth Management'},\n",
       " {'series': [{'colorByPoint': True,\n",
       "    'data': [{'name': 'First', 'y': 12},\n",
       "     {'name': 'Second', 'y': 23},\n",
       "     {'name': 'Third', 'y': 26},\n",
       "     {'name': 'Fourth', 'y': 21},\n",
       "     {'name': 'Fifth', 'y': 12},\n",
       "     {'name': 'Sixth +', 'y': 6}],\n",
       "    'name': 'Percentage'}],\n",
       "  'title': 'Hires by Student Work Term Number  - Capital Markets &amp; Wealth Management'},\n",
       " {'categories': ['Accounting & Financial Management',\n",
       "   'Financial Analysis & Risk Management',\n",
       "   'Computer Science/BCS',\n",
       "   'Economics',\n",
       "   'Mathematics/Business Administration',\n",
       "   'Science & Business',\n",
       "   'Biomedical Engineering',\n",
       "   'Data Science and Artificial Intelligence - Masters',\n",
       "   'Double Degree (BBA/BMath)',\n",
       "   'Liberal Studies'],\n",
       "  'series': [{'data': [22, 16, 5, 5, 5, 3, 2, 2, 2, 2], 'name': 'Hires'}],\n",
       "  'title': 'Most Frequently Hired Programs -  - Capital Markets &amp; Wealth Management'},\n",
       " {'categories': ['1', '2', '3', '4', '5', '6', '7', '8', '9', '10'],\n",
       "  'series': [{'data': [0, 5, 0, 0, 0, 2, 15, 12, 37, 29],\n",
       "    'name': 'RBC Financial Group - Capital Markets &amp; Wealth Management'},\n",
       "   {'data': [0, 1, 0, 0, 1, 3, 11, 22, 35, 25],\n",
       "    'name': 'RBC Financial Group'}],\n",
       "  'title': 'Overall Work Term Satisfaction - Distribution of Student Ratings (1-10 scale) Fall 2020 to Spring 2023'},\n",
       " {'categories': ['Q1. Availability of employer support (e.g. start of the term in the company, ongoing interactions with supervisors/others, general feedback, and end-of-term transition)',\n",
       "   'Q2. Opportunities to learn or develop new skills',\n",
       "   'Q3. Opportunities to make meaningful contributions at work',\n",
       "   'Q4. Opportunities to expand your professional network',\n",
       "   'Q5. Appropriate compensation and/or benefits',\n",
       "   'Q6. How closely your work was related to your academic program',\n",
       "   'Q7. How closely your work was related to the skills you are developing at university'],\n",
       "  'series': [{'data': [4.4, 4.2, 4.3, 4.7, 3.9, 3.7, 3.9],\n",
       "    'name': 'RBC Financial Group - Capital Markets &amp; Wealth Management',\n",
       "    'type': 'column'},\n",
       "   {'data': [4.6, 4.4, 4.3, 4.6, 4.2, 3.9, 3.9],\n",
       "    'name': 'RBC Financial Group',\n",
       "    'type': 'column'},\n",
       "   {'data': [4.5, 4.3, 4.3, 4.1, 4.2, 3.9, 3.9],\n",
       "    'name': 'Average of All Co-op Students',\n",
       "    'type': 'spline'}],\n",
       "  'title': 'Average Rating by Question (1-5 scale) Fall 2020 to Spring 2023'}]"
      ]
     },
     "execution_count": 43,
     "metadata": {},
     "output_type": "execute_result"
    }
   ],
   "source": [
    "divisions[24726][\"graphs\"]"
   ]
  },
  {
   "cell_type": "code",
   "execution_count": 44,
   "metadata": {},
   "outputs": [],
   "source": [
    "for division_id, division in divisions.items():\n",
    "    try:\n",
    "        divisions_df.at[division_id, \"hiring_history\"] = division[\"Hiring History\"]\n",
    "        for graph in division[\"graphs\"]:\n",
    "            if graph[\"title\"].startswith(\"Hires by Faculty\"):\n",
    "                divisions_df.at[division_id, \"hires_by_faculty\"] = convert_graph_json_to_dict(graph[\"series\"][0][\"data\"])\n",
    "            elif graph[\"title\"].startswith(\"Hires by Student Work Term Number\"):\n",
    "                divisions_df.at[division_id, \"hires_by_work_term_number\"] = convert_graph_json_to_dict(graph[\"series\"][0][\"data\"])\n",
    "            elif graph[\"title\"].startswith(\"Most Frequently Hired Programs\"):\n",
    "                divisions_df.at[division_id, \"most_frequently_hired_programs\"] = convert_graph_json_to_dict2(graph)\n",
    "            elif graph[\"title\"].startswith(\"Overall Work Term Satisfaction\"):\n",
    "                divisions_df.at[division_id, \"overall_work_term_satisfaction\"] = graph[\"series\"][0][\"data\"]           \n",
    "            elif graph[\"title\"].startswith(\"Average Rating by Question\"):\n",
    "                divisions_df.at[division_id, \"availability_of_employer_support\"] = graph[\"series\"][0][\"data\"][0]\n",
    "                divisions_df.at[division_id, \"opportunities_to_learn_or_develop_new_skills\"] = graph[\"series\"][0][\"data\"][1]\n",
    "                divisions_df.at[division_id, \"opportunities_to_make_meaningful_contributions_at_work\"] = graph[\"series\"][0][\"data\"][2]\n",
    "                divisions_df.at[division_id, \"opportunities_to_expand_your_professional_network\"] = graph[\"series\"][0][\"data\"][3]\n",
    "                divisions_df.at[division_id, \"appropriate_compensation_and_or_benefits\"] = graph[\"series\"][0][\"data\"][4]\n",
    "                divisions_df.at[division_id, \"how_closely_your_work_was_related_to_your_academic_program\"] = graph[\"series\"][0][\"data\"][5]\n",
    "                divisions_df.at[division_id, \"how_closely_your_work_was_related_to_the_skills_you_are_developing_at_university\"] = graph[\"series\"][0][\"data\"][6]\n",
    "            else:\n",
    "                print(graph[\"title\"])\n",
    "\n",
    "    except Exception as e:\n",
    "        print(division_id)\n",
    "        print(e)\n",
    "        print()"
   ]
  },
  {
   "cell_type": "code",
   "execution_count": null,
   "metadata": {},
   "outputs": [
    {
     "name": "stderr",
     "output_type": "stream",
     "text": [
      "A new version of the following files was downloaded from https://huggingface.co/nomic-ai/nomic-bert-2048:\n",
      "- configuration_hf_nomic_bert.py\n",
      ". Make sure to double-check they do not contain any added malicious code. To avoid downloading new versions of the code file, you can pin a revision.\n",
      "A new version of the following files was downloaded from https://huggingface.co/nomic-ai/nomic-bert-2048:\n",
      "- modeling_hf_nomic_bert.py\n",
      ". Make sure to double-check they do not contain any added malicious code. To avoid downloading new versions of the code file, you can pin a revision.\n",
      "!!!!!!!!!!!!megablocks not available, using torch.matmul instead\n",
      "C:\\Users\\parth\\.cache\\huggingface\\modules\\transformers_modules\\nomic-ai\\nomic-bert-2048\\359596ab182dcf943b7ca9e3f8809b6c2eaf652f\\modeling_hf_nomic_bert.py:116: FutureWarning: You are using `torch.load` with `weights_only=False` (the current default value), which uses the default pickle module implicitly. It is possible to construct malicious pickle data which will execute arbitrary code during unpickling (See https://github.com/pytorch/pytorch/blob/main/SECURITY.md#untrusted-models for more details). In a future release, the default value for `weights_only` will be flipped to `True`. This limits the functions that could be executed during unpickling. Arbitrary objects will no longer be allowed to be loaded via this mode unless they are explicitly allowlisted by the user via `torch.serialization.add_safe_globals`. We recommend you start setting `weights_only=True` for any use case where you don't have full control of the loaded file. Please open an issue on GitHub for any issues related to this experimental feature.\n",
      "  state_dict = loader(resolved_archive_file)\n",
      "<All keys matched successfully>\n"
     ]
    }
   ],
   "source": [
    "model = SentenceTransformer('nomic-ai/nomic-embed-text-v1', trust_remote_code=True).to(device)"
   ]
  }
 ],
 "metadata": {
  "kernelspec": {
   "display_name": "cs484",
   "language": "python",
   "name": "python3"
  },
  "language_info": {
   "codemirror_mode": {
    "name": "ipython",
    "version": 3
   },
   "file_extension": ".py",
   "mimetype": "text/x-python",
   "name": "python",
   "nbconvert_exporter": "python",
   "pygments_lexer": "ipython3",
   "version": "3.12.5"
  }
 },
 "nbformat": 4,
 "nbformat_minor": 2
}
