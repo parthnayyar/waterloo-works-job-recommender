{
 "cells": [
  {
   "cell_type": "code",
   "execution_count": 50,
   "metadata": {},
   "outputs": [],
   "source": [
    "# from sentence_transformers import SentenceTransformer\n",
    "from bs4 import BeautifulSoup\n",
    "import pandas as pd\n",
    "import torch\n",
    "import json\n",
    "import re\n",
    "device = \"cuda\" if torch.cuda.is_available() else \"cpu\""
   ]
  },
  {
   "cell_type": "code",
   "execution_count": 54,
   "metadata": {},
   "outputs": [],
   "source": [
    "def process_input_json(filepath: str, jobs: dict, divisions: dict):\n",
    "    with open(filepath) as f: data = json.load(f)\n",
    "    for key in data:\n",
    "        if key.startswith(\"coopJob_\") and data[key][\"jobId\"] not in jobs: jobs[data[key][\"jobId\"]] = data[key]\n",
    "        elif key.startswith(\"division_\"): divisions[int(key.split(\"_\")[1])] = data[key]\n",
    "\n",
    "def fix_job_json(job: dict) -> None:\n",
    "    if \"Compensation and Benefits Information\" in job[\"pageData\"][\"Job Posting Information\"]:\n",
    "        job[\"pageData\"][\"Job Posting Information\"][\"Compensation and Benefits\"] = job[\"pageData\"][\"Job Posting Information\"][\"Compensation and Benefits Information\"]\n",
    "        job[\"pageData\"][\"Job Posting Information\"].pop(\"Compensation and Benefits Information\")\n",
    "\n",
    "    if \"Job - Province/State\" in job[\"pageData\"][\"Job Posting Information\"]:\n",
    "        job[\"pageData\"][\"Job Posting Information\"][\"Job - Province / State\"] = job[\"pageData\"][\"Job Posting Information\"][\"Job - Province/State\"]\n",
    "        job[\"pageData\"][\"Job Posting Information\"].pop(\"Job - Province/State\")\n",
    "\n",
    "    if \"Job - Province / State\" not in job[\"pageData\"][\"Job Posting Information\"]:\n",
    "        job[\"pageData\"][\"Job Posting Information\"][\"Job - Province / State\"] = None\n",
    "\n",
    "    if \"Job - City\" not in job[\"pageData\"][\"Job Posting Information\"]:\n",
    "        job[\"pageData\"][\"Job Posting Information\"][\"Job - City\"] = None\n",
    "\n",
    "    if \"divisionId\" not in job:\n",
    "        job[\"divisionId\"] = None\n",
    "\n",
    "def fix_division_json(division: dict) -> None:\n",
    "    if \"hireHistory\" in division:\n",
    "        division[\"Hiring History\"] = division[\"hireHistory\"]\n",
    "        division.pop(\"hireHistory\")\n",
    "\n",
    "def convert_graph_json_to_dict(json: list[dict]) -> dict[str, int]:\n",
    "    return {item[\"name\"]: item[\"y\"] for item in json}\n",
    "\n",
    "def convert_graph_json_to_dict2(json: dict) -> dict[str, int]:\n",
    "    return {category: datapoint for category, datapoint in zip(json[\"categories\"], json[\"series\"][0][\"data\"])}\n",
    "\n",
    "def get_min_salary(compensation_and_benefits: str) -> float: return 0\n",
    "def get_max_salary(compensation_and_benefits: str) -> float: return 0\n",
    "\n",
    "def get_job_description(job_id: int, jobs_df: pd.DataFrame) -> str:\n",
    "    return re.sub(\n",
    "        r\"\\n\\n+\",\n",
    "        \"\\n\",\n",
    "        BeautifulSoup(\n",
    "            f\"\\\n",
    "Job Title: {jobs_df.at[job_id, 'job_title']}\\n\\\n",
    "Company: {jobs_df.at[job_id, 'company']} - {jobs_df.at[job_id, 'division']}\\n\\\n",
    "Job Summary: {jobs_df.at[job_id, 'job_summary']}\\n\\\n",
    "Job Responsibilities: {jobs_df.at[job_id, 'job_responsibilities']}\\n\\\n",
    "Required Skills: {jobs_df.at[job_id, 'required_skills']}\",\n",
    "            \"html.parser\"\n",
    "        ).get_text()\n",
    "    )"
   ]
  },
  {
   "cell_type": "code",
   "execution_count": null,
   "metadata": {},
   "outputs": [],
   "source": [
    "jobs.keys()"
   ]
  },
  {
   "cell_type": "code",
   "execution_count": null,
   "metadata": {},
   "outputs": [],
   "source": [
    "print(get_job_description(339400, jobs_df).__len__() / 4)"
   ]
  },
  {
   "cell_type": "code",
   "execution_count": 24,
   "metadata": {},
   "outputs": [],
   "source": [
    "filepaths = [\"ww_data_1.json\", \"ww_data_2.json\"]\n",
    "jobs = {}\n",
    "divisions = {}\n",
    "for filepath in filepaths: process_input_json(filepath, jobs, divisions)\n",
    "for _, job in jobs.items(): fix_job_json(job)\n",
    "for _, division in divisions.items(): fix_division_json(division)"
   ]
  },
  {
   "cell_type": "code",
   "execution_count": 25,
   "metadata": {},
   "outputs": [],
   "source": [
    "with open(\"ww_data_2.json\") as f: data = json.load(f)"
   ]
  },
  {
   "cell_type": "code",
   "execution_count": 26,
   "metadata": {},
   "outputs": [],
   "source": [
    "job_columns = {\n",
    "    \"division_id\": pd.Series(dtype=\"int\"), # jobs[job_id][\"divisionId\"]\n",
    "    \"application_deadline\": pd.Series(dtype=\"datetime64[ns]\"), # jobs[job_id][\"postingListData\"][\"deadline\"]\n",
    "    \"application_documents_required\": pd.Series(dtype=\"object\"),  # jobs[job_id][\"pageData\"][\"Application Information\"][\"Application Documents Required\"] # list[str]\n",
    "    \"company\": pd.Series(dtype=\"str\"), # jobs[job_id][\"postingListData\"][\"company\"]\n",
    "    \"division\": pd.Series(dtype=\"str\"), # jobs[job_id][\"postingListData\"][\"division\"]\n",
    "    \"min_salary\": pd.Series(dtype=\"float\"), # jobs[job_id][\"pageData\"][\"Job Posting Information\"][\"Compensation and Benefits\"]\n",
    "    \"max_salary\": pd.Series(dtype=\"float\"), # jobs[job_id][\"pageData\"][\"Job Posting Information\"][\"Compensation and Benefits\"]\n",
    "    \"compensation_and_benefits\": pd.Series(dtype=\"str\"), # jobs[job_id][\"pageData\"][\"Job Posting Information\"][\"Compensation and Benefits\"]\n",
    "    \"work_arrangement\": pd.Series(dtype=\"str\"), # jobs[job_id][\"pageData\"][\"Job Posting Information\"][\"Employment Location Arrangement\"]\n",
    "    \"city\": pd.Series(dtype=\"str\"), # jobs[job_id][\"pageData\"][\"Job Posting Information\"][\"Job - City\"]\n",
    "    \"province\": pd.Series(dtype=\"str\"), # jobs[job_id][\"pageData\"][\"Job Posting Information\"][\"Job - Province/State\"]\n",
    "    \"country\": pd.Series(dtype=\"str\"), # jobs[job_id][\"pageData\"][\"Job Posting Information\"][\"Job - Country\"]\n",
    "    \"job_responsibilities\": pd.Series(dtype=\"str\"), # jobs[job_id][\"pageData\"][\"Job Posting Information\"][\"Job Responsibilities\"]\n",
    "    \"job_summary\": pd.Series(dtype=\"str\"), # jobs[job_id][\"pageData\"][\"Job Posting Information\"][\"Job Summary\"]\n",
    "    \"job_title\": pd.Series(dtype=\"str\"), # jobs[job_id][\"postingListData\"][\"jobTitle\"]\n",
    "    \"required_skills\": pd.Series(dtype=\"str\"), # jobs[job_id][\"pageData\"][\"Job Posting Information\"][\"Required Skills\"]\n",
    "    \"duration\": pd.Series(dtype=\"int\"), # jobs[job_id][\"pageData\"][\"Job Posting Information\"][\"Work Term Duration\"]\n",
    "    \"num_job_openings\": pd.Series(dtype=\"int\"), # jobs[job_id][\"postingListData\"][\"openings\"]\n",
    "    \"num_applications\": pd.Series(dtype=\"int\"), # jobs[job_id][\"postingListData\"][\"applications\"]\n",
    "}\n",
    "jobs_df = pd.DataFrame(data=[], columns=job_columns.keys())\n",
    "jobs_df.index.name = \"job_id\""
   ]
  },
  {
   "cell_type": "code",
   "execution_count": 41,
   "metadata": {},
   "outputs": [],
   "source": [
    "division_columns = {\n",
    "    \"hiring_history\": pd.Series(dtype=\"object\"), # divisions[division_id][\"Hiring History\"] # list[int]\n",
    "    \"hires_by_faculty\": pd.Series(dtype=\"object\"), # divisions[division_id][\"graphs\"][title=\"Hires by Faculty\"] # dict[str, int]\n",
    "    \"hires_by_work_term_number\": pd.Series(dtype=\"object\"), # divisions[division_id][\"graphs\"][title=\"Hires by Student Work Term Number\"] # dict[str, int] \n",
    "    \"most_frequently_hired_programs\": pd.Series(dtype=\"object\"), # divisions[division_id][\"graphs\"][title=\"Most Frequently Hired Programs\"] # dict[str, int] \n",
    "    \"overall_work_term_satisfaction\": pd.Series(dtype=\"object\"), # divisions[division_id][\"graphs\"][title.startswith(\"Overall Work Term Satisfaction\")] # list[int]\n",
    "    \"availability_of_employer_support\": pd.Series(dtype=\"float\"), # divisions[division_id][\"graphs\"][title.startswith(\"Average Rating by Question\")][\"series\"][0][\"data\"][0]\n",
    "    \"opportunities_to_learn_or_develop_new_skills\": pd.Series(dtype=\"float\"), # divisions[division_id][\"graphs\"][title.startswith(\"Average Rating by Question\")][\"series\"][0][\"data\"][1]\n",
    "    \"opportunities_to_make_meaningful_contributions_at_work\": pd.Series(dtype=\"float\"), # divisions[division_id][\"graphs\"][title.startswith(\"Average Rating by Question\")][\"series\"][0][\"data\"][2]\n",
    "    \"opportunities_to_expand_your_professional_network\": pd.Series(dtype=\"float\"), # divisions[division_id][\"graphs\"][title.startswith(\"Average Rating by Question\")][\"series\"][0][\"data\"][3]\n",
    "    \"appropriate_compensation_and_or_benefits\": pd.Series(dtype=\"float\"), # divisions[division_id][\"graphs\"][title.startswith(\"Average Rating by Question\")][\"series\"][0][\"data\"][4]\n",
    "    \"how_closely_your_work_was_related_to_your_academic_program\": pd.Series(dtype=\"float\"), # divisions[division_id][\"graphs\"][title.startswith(\"Average Rating by Question\")][\"series\"][0][\"data\"][5]\n",
    "    \"how_closely_your_work_was_related_to_the_skills_you_are_developing_at_university\": pd.Series(dtype=\"float\") # divisions[key][\"graphs\"][title.startswith(\"Average Rating by Question\")][\"series\"][0][\"data\"][6]\n",
    "}\n",
    "divisions_df = pd.DataFrame(data=[], columns=division_columns.keys())\n",
    "divisions_df.index.name = \"division_id\""
   ]
  },
  {
   "cell_type": "code",
   "execution_count": 42,
   "metadata": {},
   "outputs": [],
   "source": [
    "for job_id, job in jobs.items():\n",
    "    try:\n",
    "        jobs_df.at[job_id, \"division_id\"] = job[\"divisionId\"]\n",
    "        jobs_df.at[job_id, \"application_deadline\"] = job[\"postingListData\"][\"deadline\"]\n",
    "        jobs_df.at[job_id, \"application_documents_required\"] = job[\"pageData\"][\"Application Information\"][\"Application Documents Required\"]\n",
    "        jobs_df.at[job_id, \"company\"] = job[\"postingListData\"][\"company\"]\n",
    "        jobs_df.at[job_id, \"division\"] = job[\"postingListData\"][\"division\"]\n",
    "        jobs_df.at[job_id, \"min_salary\"] = get_min_salary(job[\"pageData\"][\"Job Posting Information\"][\"Compensation and Benefits\"])\n",
    "        jobs_df.at[job_id, \"max_salary\"] = get_max_salary(job[\"pageData\"][\"Job Posting Information\"][\"Compensation and Benefits\"])\n",
    "        jobs_df.at[job_id, \"compensation_and_benefits\"] = job[\"pageData\"][\"Job Posting Information\"][\"Compensation and Benefits\"]\n",
    "        jobs_df.at[job_id, \"work_arrangement\"] = job[\"pageData\"][\"Job Posting Information\"][\"Employment Location Arrangement\"]\n",
    "        jobs_df.at[job_id, \"city\"] = job[\"pageData\"][\"Job Posting Information\"][\"Job - City\"]\n",
    "        jobs_df.at[job_id, \"province\"] = job[\"pageData\"][\"Job Posting Information\"][\"Job - Province / State\"]\n",
    "        jobs_df.at[job_id, \"country\"] = job[\"pageData\"][\"Job Posting Information\"][\"Job - Country\"]\n",
    "        jobs_df.at[job_id, \"job_responsibilities\"] = job[\"pageData\"][\"Job Posting Information\"][\"Job Responsibilities\"]\n",
    "        jobs_df.at[job_id, \"job_summary\"] = job[\"pageData\"][\"Job Posting Information\"][\"Job Summary\"]\n",
    "        jobs_df.at[job_id, \"job_title\"] = job[\"postingListData\"][\"jobTitle\"]\n",
    "        jobs_df.at[job_id, \"required_skills\"] = job[\"pageData\"][\"Job Posting Information\"][\"Required Skills\"]\n",
    "        jobs_df.at[job_id, \"duration\"] = job[\"pageData\"][\"Job Posting Information\"][\"Work Term Duration\"]\n",
    "        jobs_df.at[job_id, \"num_job_openings\"] = job[\"postingListData\"][\"openings\"]\n",
    "        jobs_df.at[job_id, \"num_applications\"] = job[\"postingListData\"][\"applications\"]\n",
    "    except Exception as e:\n",
    "        print(job_id)\n",
    "        print(e)\n",
    "        print()"
   ]
  },
  {
   "cell_type": "code",
   "execution_count": null,
   "metadata": {},
   "outputs": [],
   "source": [
    "divisions[24726][\"graphs\"]"
   ]
  },
  {
   "cell_type": "code",
   "execution_count": 44,
   "metadata": {},
   "outputs": [],
   "source": [
    "for division_id, division in divisions.items():\n",
    "    try:\n",
    "        divisions_df.at[division_id, \"hiring_history\"] = division[\"Hiring History\"]\n",
    "        for graph in division[\"graphs\"]:\n",
    "            if graph[\"title\"].startswith(\"Hires by Faculty\"):\n",
    "                divisions_df.at[division_id, \"hires_by_faculty\"] = convert_graph_json_to_dict(graph[\"series\"][0][\"data\"])\n",
    "            elif graph[\"title\"].startswith(\"Hires by Student Work Term Number\"):\n",
    "                divisions_df.at[division_id, \"hires_by_work_term_number\"] = convert_graph_json_to_dict(graph[\"series\"][0][\"data\"])\n",
    "            elif graph[\"title\"].startswith(\"Most Frequently Hired Programs\"):\n",
    "                divisions_df.at[division_id, \"most_frequently_hired_programs\"] = convert_graph_json_to_dict2(graph)\n",
    "            elif graph[\"title\"].startswith(\"Overall Work Term Satisfaction\"):\n",
    "                divisions_df.at[division_id, \"overall_work_term_satisfaction\"] = graph[\"series\"][0][\"data\"]           \n",
    "            elif graph[\"title\"].startswith(\"Average Rating by Question\"):\n",
    "                divisions_df.at[division_id, \"availability_of_employer_support\"] = graph[\"series\"][0][\"data\"][0]\n",
    "                divisions_df.at[division_id, \"opportunities_to_learn_or_develop_new_skills\"] = graph[\"series\"][0][\"data\"][1]\n",
    "                divisions_df.at[division_id, \"opportunities_to_make_meaningful_contributions_at_work\"] = graph[\"series\"][0][\"data\"][2]\n",
    "                divisions_df.at[division_id, \"opportunities_to_expand_your_professional_network\"] = graph[\"series\"][0][\"data\"][3]\n",
    "                divisions_df.at[division_id, \"appropriate_compensation_and_or_benefits\"] = graph[\"series\"][0][\"data\"][4]\n",
    "                divisions_df.at[division_id, \"how_closely_your_work_was_related_to_your_academic_program\"] = graph[\"series\"][0][\"data\"][5]\n",
    "                divisions_df.at[division_id, \"how_closely_your_work_was_related_to_the_skills_you_are_developing_at_university\"] = graph[\"series\"][0][\"data\"][6]\n",
    "            else:\n",
    "                print(graph[\"title\"])\n",
    "\n",
    "    except Exception as e:\n",
    "        print(division_id)\n",
    "        print(e)\n",
    "        print()"
   ]
  },
  {
   "cell_type": "code",
   "execution_count": null,
   "metadata": {},
   "outputs": [],
   "source": [
    "model = SentenceTransformer('nomic-ai/nomic-embed-text-v1', trust_remote_code=True).to(device)"
   ]
  }
 ],
 "metadata": {
  "kernelspec": {
   "display_name": "cs484",
   "language": "python",
   "name": "python3"
  },
  "language_info": {
   "codemirror_mode": {
    "name": "ipython",
    "version": 3
   },
   "file_extension": ".py",
   "mimetype": "text/x-python",
   "name": "python",
   "nbconvert_exporter": "python",
   "pygments_lexer": "ipython3",
   "version": "3.12.5"
  }
 },
 "nbformat": 4,
 "nbformat_minor": 2
}
