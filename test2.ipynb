{
 "cells": [
  {
   "cell_type": "code",
   "execution_count": 72,
   "metadata": {},
   "outputs": [],
   "source": [
    "from sentence_transformers import SentenceTransformer\n",
    "from bs4 import BeautifulSoup\n",
    "import pandas as pd\n",
    "import datetime\n",
    "import torch\n",
    "import json\n",
    "import re\n",
    "device = \"cuda\" if torch.cuda.is_available() else \"cpu\""
   ]
  },
  {
   "cell_type": "code",
   "execution_count": 73,
   "metadata": {},
   "outputs": [],
   "source": [
    "def process_input_json(filepath: str, jobs: dict, divisions: dict):\n",
    "    with open(filepath) as f: data = json.load(f)\n",
    "    for key in data:\n",
    "        if key.startswith(\"coopJob_\") and data[key][\"jobId\"] not in jobs: jobs[data[key][\"jobId\"]] = data[key]\n",
    "        elif key.startswith(\"division_\"): divisions[int(key.split(\"_\")[1])] = data[key]"
   ]
  },
  {
   "cell_type": "code",
   "execution_count": 76,
   "metadata": {},
   "outputs": [],
   "source": [
    "with open(\"ww_data_2.json\") as f: data = json.load(f)"
   ]
  },
  {
   "cell_type": "code",
   "execution_count": 116,
   "metadata": {},
   "outputs": [],
   "source": [
    "job_columns = {\n",
    "    \"job_id\": pd.Series(dtype=\"int\"), # key\n",
    "    \"division_id\": pd.Series(dtype=\"int\"), # \n",
    "    \"application_deadline\": pd.Series(dtype=\"datetime64[ns]\"), # jobs[key][\"postingListData\"][\"deadline\"]\n",
    "    \"application_documents_required\": pd.Series(dtype=\"object\"),  # jobs[key][\"pageData\"][\"Application Information\"][\"Application Documents Required\"]\n",
    "    \"company\": pd.Series(dtype=\"str\"), # jobs[key][\"postingListData\"][\"company\"]\n",
    "    \"division\": pd.Series(dtype=\"str\"), # jobs[key][\"postingListData\"][\"division\"]\n",
    "    \"min_salary\": pd.Series(dtype=\"float\"), # jobs[key][\"pageData\"][\"Job Posting Information\"][\"Compensation and Benefits\"]\n",
    "    \"max_salary\": pd.Series(dtype=\"float\"), # jobs[key][\"pageData\"][\"Job Posting Information\"][\"Compensation and Benefits\"]\n",
    "    \"compensation_and_benefits\": pd.Series(dtype=\"str\"), # jobs[key][\"pageData\"][\"Job Posting Information\"][\"Compensation and Benefits\"]\n",
    "    \"work_arrangement\": pd.Series(dtype=\"str\"), # jobs[key][\"pageData\"][\"Job Posting Information\"][\"Employment Location Arrangement\"]\n",
    "    \"city\": pd.Series(dtype=\"str\"), # jobs[key][\"pageData\"][\"Job Posting Information\"][\"Job - City\"]\n",
    "    \"province\": pd.Series(dtype=\"str\"), # jobs[key][\"pageData\"][\"Job Posting Information\"][\"Job - Province/State\"]\n",
    "    \"country\": pd.Series(dtype=\"str\"), # jobs[key][\"pageData\"][\"Job Posting Information\"][\"Job - Country\"]\n",
    "    \"job_responsibilities\": pd.Series(dtype=\"str\"), # jobs[key][\"pageData\"][\"Job Posting Information\"][\"Job Responsibilities\"]\n",
    "    \"job_summary\": pd.Series(dtype=\"str\"), # jobs[key][\"pageData\"][\"Job Posting Information\"][\"Job Summary\"]\n",
    "    \"job_title\": pd.Series(dtype=\"str\"), # jobs[key][\"postingListData\"][\"jobTitle\"]\n",
    "    \"required_skills\": pd.Series(dtype=\"str\"), # jobs[key][\"pageData\"][\"Job Posting Information\"][\"Required Skills\"]\n",
    "    \"duration\": pd.Series(dtype=\"int\"), # jobs[key][\"postingListData\"][\"Work Term Duration\"]\n",
    "    \"num_job_openings\": pd.Series(dtype=\"int\"), # jobs[key][\"postingListData\"][\"openings\"]\n",
    "    \"num_applications\": pd.Series(dtype=\"int\"), # jobs[key][\"postingListData\"][\"applications\"]\n",
    "}\n",
    "jobs_df = pd.DataFrame(data=[], columns=job_columns.keys())"
   ]
  },
  {
   "cell_type": "code",
   "execution_count": 121,
   "metadata": {},
   "outputs": [
    {
     "data": {
      "text/plain": [
       "{'division': 'Divisional Office',\n",
       " 'graphs': [{'series': [{'colorByPoint': True,\n",
       "     'data': [{'name': 'Arts', 'y': 55},\n",
       "      {'name': 'Engineering', 'y': 21},\n",
       "      {'name': 'Health', 'y': 3},\n",
       "      {'name': 'Mathematics', 'y': 16},\n",
       "      {'name': 'Science', 'y': 5}],\n",
       "     'name': 'Percentage'}],\n",
       "   'title': 'Hires by Faculty'},\n",
       "  {'series': [{'colorByPoint': True,\n",
       "     'data': [{'name': 'First', 'y': 34},\n",
       "      {'name': 'Second', 'y': 18},\n",
       "      {'name': 'Third', 'y': 18},\n",
       "      {'name': 'Fourth', 'y': 21},\n",
       "      {'name': 'Fifth', 'y': 5},\n",
       "      {'name': 'Sixth +', 'y': 3}],\n",
       "     'name': 'Percentage'}],\n",
       "   'title': 'Hires by Student Work Term Number'},\n",
       "  {'categories': ['Psychology',\n",
       "    'Computer Engineering',\n",
       "    'Liberal Studies',\n",
       "    'Computer Science/BCS',\n",
       "    'Economics',\n",
       "    'Legal Studies',\n",
       "    'Political Science',\n",
       "    'Systems Design Engineering',\n",
       "    'Financial Analysis & Risk Management',\n",
       "    'Nanotechnology Engineering'],\n",
       "   'series': [{'data': [7, 5, 5, 4, 4, 2, 2, 2, 1, 1], 'name': 'Hires'}],\n",
       "   'title': 'Most Frequently Hired Programs'},\n",
       "  {'categories': ['1', '2', '3', '4', '5', '6', '7', '8', '9', '10'],\n",
       "   'series': [{'data': [0, 0, 0, 4, 8, 12, 8, 48, 4, 16],\n",
       "     'name': 'ApplyBoard'}],\n",
       "   'title': 'Overall Work Term Satisfaction - Distribution of Student Ratings (1-10 scale) Winter 2022 to Fall 2024'},\n",
       "  {'categories': ['Q1. Availability of employer support (e.g. start of the term in the company, ongoing interactions with supervisors/others, general feedback, and end-of-term transition)',\n",
       "    'Q2. Opportunities to learn or develop new skills',\n",
       "    'Q3. Opportunities to make meaningful contributions at work',\n",
       "    'Q4. Opportunities to expand your professional network',\n",
       "    'Q5. Appropriate compensation and/or benefits',\n",
       "    'Q6. How closely your work was related to your academic program',\n",
       "    'Q7. How closely your work was related to the skills you are developing at university'],\n",
       "   'series': [{'data': [4.2, 3.7, 3.9, 3.9, 3.6, 2.5, 3.3],\n",
       "     'name': 'ApplyBoard',\n",
       "     'type': 'column'},\n",
       "    {'data': [4.5, 4.3, 4.3, 4.1, 4.1, 4, 3.9],\n",
       "     'name': 'Average of All Co-op Students',\n",
       "     'type': 'spline'}],\n",
       "   'title': 'Average Rating by Question (1-5 scale) Winter 2022 to Fall 2024'}],\n",
       " 'hireHistory': [{'divisionHired': '16',\n",
       "   'organizationHired': '16',\n",
       "   'term': '2022 - Winter'},\n",
       "  {'divisionHired': '13', 'organizationHired': '13', 'term': '2022 - Spring'},\n",
       "  {'divisionHired': '4', 'organizationHired': '4', 'term': '2022 - Fall'},\n",
       "  {'divisionHired': '2', 'organizationHired': '2', 'term': '2023 - Winter'},\n",
       "  {'divisionHired': '3', 'organizationHired': '3', 'term': '2023 - Spring'},\n",
       "  {'divisionHired': '0', 'organizationHired': '0', 'term': '2023 - Fall'},\n",
       "  {'divisionHired': '0', 'organizationHired': '0', 'term': '2024 - Winter'},\n",
       "  {'divisionHired': '0', 'organizationHired': '0', 'term': '2024 - Spring'},\n",
       "  {'divisionHired': '0', 'organizationHired': '0', 'term': '2024 - Fall'}],\n",
       " 'organization': 'ApplyBoard'}"
      ]
     },
     "execution_count": 121,
     "metadata": {},
     "output_type": "execute_result"
    }
   ],
   "source": [
    "data[\"division_10183\"]"
   ]
  },
  {
   "cell_type": "code",
   "execution_count": null,
   "metadata": {},
   "outputs": [],
   "source": [
    "division_columns = {\n",
    "    \"hiring_history\": pd.Series(dtype=\"list[int]\"), \n",
    "    \"hires_by_faculty\": pd.Series(dtype=\"dict[str, int]\"), \n",
    "    \"hires_by_work_term_number\": pd.Series(dtype=\"dict[int, int]\"), \n",
    "    \"most_frequently_hired_programs\": pd.Series(dtype=\"dict[str, int]\"), \n",
    "    \"work_term_ratings\": pd.Series(dtype=\"int\"), \n",
    "    \"availability_of_employer_support\": pd.Series(dtype=\"float\"), \n",
    "    \"opportunities_to_learn_or_develop_new_skills\": pd.Series(dtype=\"float\"), \n",
    "    \"opportunities_to_make_meaningful_contributions_at_work\": pd.Series(dtype=\"float\"), \n",
    "    \"opportunities_to_expand_your_professional_network\": pd.Series(dtype=\"float\"), \n",
    "    \"appropriate_compensation_and_or_benefits\": pd.Series(dtype=\"float\"), \n",
    "    \"how_closely_your_work_was_related_to_your_academic_program\": pd.Series(dtype=\"float\"), \n",
    "    \"how_closely_your_work_was_related_to_the_skills_you_are_developing_at_university\": pd.Series(dtype=\"float\")\n",
    "}\n",
    "divisions_df = pd.DataFrame(data=[], columns=division_columns.keys())"
   ]
  },
  {
   "cell_type": "markdown",
   "metadata": {},
   "source": [
    "1) "
   ]
  },
  {
   "cell_type": "code",
   "execution_count": 117,
   "metadata": {},
   "outputs": [],
   "source": [
    "filepaths = [\"ww_data_1.json\", \"ww_data_2.json\"]\n",
    "jobs = {}\n",
    "divisions = {}\n",
    "for filepath in filepaths: process_input_json(filepath, jobs, divisions)"
   ]
  },
  {
   "cell_type": "code",
   "execution_count": null,
   "metadata": {},
   "outputs": [],
   "source": [
    "job_descriptions = {\n",
    "    job_id:\n",
    "    re.sub(\n",
    "        r\"\\n\\n+\",\n",
    "        \"\\n\",\n",
    "        BeautifulSoup(\n",
    "            f\"\\\n",
    "Job Title: {job['pageData']['Job Posting Information']['Job Title']}\\n\\\n",
    "Company: {job['pageData']['Company Information']['Organization']} - {job['pageData']['Company Information']['Division']}\\n\\\n",
    "Job Summary: {job['pageData']['Job Posting Information']['Job Summary']}\\n\\\n",
    "Job Responsibilities: {job['pageData']['Job Posting Information']['Job Responsibilities']}\\n\\\n",
    "Required Skills: {job['pageData']['Job Posting Information']['Required Skills']}\",\n",
    "            \"html.parser\"\n",
    "        ).get_text()\n",
    "    )\n",
    "    for job_id, job in jobs.items()\n",
    "}"
   ]
  },
  {
   "cell_type": "code",
   "execution_count": null,
   "metadata": {},
   "outputs": [
    {
     "name": "stderr",
     "output_type": "stream",
     "text": [
      "A new version of the following files was downloaded from https://huggingface.co/nomic-ai/nomic-bert-2048:\n",
      "- configuration_hf_nomic_bert.py\n",
      ". Make sure to double-check they do not contain any added malicious code. To avoid downloading new versions of the code file, you can pin a revision.\n",
      "A new version of the following files was downloaded from https://huggingface.co/nomic-ai/nomic-bert-2048:\n",
      "- modeling_hf_nomic_bert.py\n",
      ". Make sure to double-check they do not contain any added malicious code. To avoid downloading new versions of the code file, you can pin a revision.\n",
      "!!!!!!!!!!!!megablocks not available, using torch.matmul instead\n",
      "C:\\Users\\parth\\.cache\\huggingface\\modules\\transformers_modules\\nomic-ai\\nomic-bert-2048\\359596ab182dcf943b7ca9e3f8809b6c2eaf652f\\modeling_hf_nomic_bert.py:116: FutureWarning: You are using `torch.load` with `weights_only=False` (the current default value), which uses the default pickle module implicitly. It is possible to construct malicious pickle data which will execute arbitrary code during unpickling (See https://github.com/pytorch/pytorch/blob/main/SECURITY.md#untrusted-models for more details). In a future release, the default value for `weights_only` will be flipped to `True`. This limits the functions that could be executed during unpickling. Arbitrary objects will no longer be allowed to be loaded via this mode unless they are explicitly allowlisted by the user via `torch.serialization.add_safe_globals`. We recommend you start setting `weights_only=True` for any use case where you don't have full control of the loaded file. Please open an issue on GitHub for any issues related to this experimental feature.\n",
      "  state_dict = loader(resolved_archive_file)\n",
      "<All keys matched successfully>\n"
     ]
    }
   ],
   "source": [
    "model = SentenceTransformer('nomic-ai/nomic-embed-text-v1', trust_remote_code=True).to(device)"
   ]
  },
  {
   "cell_type": "code",
   "execution_count": null,
   "metadata": {},
   "outputs": [],
   "source": [
    "columns = {\n",
    "    \"Job ID\": pd.Series(dtype=\"int\"),\n",
    "    \"Is For My Program\": pd.Series(dtype=\"bool\"), \n",
    "    \"Job Title\": pd.Series(dtype=\"str\"), \n",
    "    \"Job Summary\": pd.Series(dtype=\"str\"), \n",
    "    \"Job Responsibilities\": pd.Series(dtype=\"str\"), \n",
    "    \"Required Skills\": pd.Series(dtype=\"str\"), \n",
    "    \"Min Salary\": pd.Series(dtype=\"float\"), \n",
    "    \"Max Salary\": pd.Series(dtype=\"float\"), \n",
    "    \"Location\": pd.Series(dtype=\"str\"), \n",
    "    \"Work Arrangement\": pd.Series(dtype=\"str\"), \n",
    "    \"Duration\": pd.Series(dtype=\"int\"), \n",
    "    \"Applications\": pd.Series(dtype=\"int\"), \n",
    "    \"Hiring History\": pd.Series(dtype=\"list[int]\"), \n",
    "    \"Hires by Faculty\": pd.Series(dtype=\"dict[str, int]\"), \n",
    "    \"Hires by Work Term Number\": pd.Series(dtype=\"dict[int, int]\"), \n",
    "    \"Most Frequently Hired Programs\": pd.Series(dtype=\"dict[str, int]\"), \n",
    "    \"Work Term Ratings\": pd.Series(dtype=\"int\"), \n",
    "    \"Availability of employer support\": pd.Series(dtype=\"float\"), \n",
    "    \"Opportunities to learn or develop new skills\": pd.Series(dtype=\"float\"), \n",
    "    \"Opportunities to make meaningful contributions at work\": pd.Series(dtype=\"float\"), \n",
    "    \"Opportunities to expand your professional network\": pd.Series(dtype=\"float\"), \n",
    "    \"Appropriate compensation and/or benefits\": pd.Series(dtype=\"float\"), \n",
    "    \"How closely your work was related to your academic program\": pd.Series(dtype=\"float\"), \n",
    "    \"How closely your work was related to the skills you are developing at university\": pd.Series(dtype=\"float\")\n",
    "}\n",
    "jobs_df = pd.DataFrame(data=[], columns=columns.keys())"
   ]
  }
 ],
 "metadata": {
  "kernelspec": {
   "display_name": "wwrecommender",
   "language": "python",
   "name": "python3"
  },
  "language_info": {
   "codemirror_mode": {
    "name": "ipython",
    "version": 3
   },
   "file_extension": ".py",
   "mimetype": "text/x-python",
   "name": "python",
   "nbconvert_exporter": "python",
   "pygments_lexer": "ipython3",
   "version": "3.10.14"
  }
 },
 "nbformat": 4,
 "nbformat_minor": 2
}
